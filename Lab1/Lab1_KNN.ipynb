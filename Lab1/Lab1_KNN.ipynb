{
 "cells": [
  {
   "cell_type": "markdown",
   "metadata": {},
   "source": [
    "# Lab1 KNN分类算法\n",
    "- 姓名：彭钰钊\n",
    "- 学号：2110756\n",
    "- 专业：计算机科学与技术\n",
    "- GitHub链接：https://github.com/Yuzhao-P/Machine-Learning\n",
    "    > 上传历次实验数据文件和.ipynb文件，同时在README.md中更新有关实验的相关知识整理。\n",
    "## 实验要求\n",
    "题目：基于KNN 的手写数字识别  \n",
    "实验条件：给定semeion手写数字数据集，给定kNN分类算法  \n",
    "实验要求：\n",
    "\n",
    "1. 基本要求：编程实现KNN算法；给出在不同k值（1，3，5）情况下，KNN算法对手写数字的识别精度（要求采用留一法）\n",
    "2. 中级要求：与机器学习包中的KNN分类结果进行对比\n",
    "3. 提高要求：采用旋转等手段对原始数据进行处理，扩增数据量，采用CNN或其他深度学习方法实现手写体识别"
   ]
  },
  {
   "cell_type": "markdown",
   "metadata": {},
   "source": [
    "### 导入所需要的包"
   ]
  },
  {
   "cell_type": "code",
   "execution_count": 1,
   "metadata": {},
   "outputs": [],
   "source": [
    "# 导入本次实验所需要的包\n",
    "import numpy as np\n",
    "from collections import Counter\n",
    "from sklearn.neighbors import KNeighborsClassifier # KNN分类器\n",
    "from sklearn.model_selection import LeaveOneOut #  留一法\n",
    "from sklearn.metrics import accuracy_score # 获取准确率\n",
    "import matplotlib.pyplot as plt"
   ]
  },
  {
   "cell_type": "markdown",
   "metadata": {},
   "source": [
    "### 导入数据集semesion\n",
    "采用独热编码，对应规则如下：  \n",
    "[1 0 0 0 0 0 0 0 0 0] $\\to$ 0  \n",
    "[0 0 0 0 0 0 0 0 0 1] $\\to$ 9"
   ]
  },
  {
   "cell_type": "code",
   "execution_count": 2,
   "metadata": {},
   "outputs": [],
   "source": [
    "# 数据导入\n",
    "def GetData(filepath):\n",
    "    \"\"\"\n",
    "        按行读取文件并将其转换成矩阵(利用np),参数说明：\n",
    "        str_All_lines : 按行读取的文件列表,每一行文本最为一个字符串存储在列表str_All_lines中\n",
    "        col_num : 行数\n",
    "        features_matrix : 特征矩阵\n",
    "        labels_array : 类别标签数组\n",
    "    \"\"\"\n",
    "    file = open(filepath)\n",
    "    str_All_lines = file.readlines()\n",
    "    col_num = len(str_All_lines)\n",
    "    file.close()\n",
    "    # 初始化特征矩阵和类别标签数组\n",
    "    features_matrix = np.zeros((col_num,256))\n",
    "    labels_array = np.zeros((col_num,1))\n",
    "    # 根据数据给特征矩阵和类别标签数组赋值\n",
    "    for i in range(col_num):\n",
    "        # 将每一行数据分割开\n",
    "        str_line = str_All_lines[i].split()\n",
    "        for j in range(256):\n",
    "            # 将 str 转换为 float 存入特征矩阵  注意!!!numpy现在删去了np.float的用法，因此使用np.float64\n",
    "            features_matrix[i][j] = np.float64(str_line[j])\n",
    "        label = 0\n",
    "        # 将独热编码转换为标签值\n",
    "        for j in range(256, 266):\n",
    "            if str_line[j] != '1':\n",
    "                label += 1\n",
    "            else:\n",
    "                break\n",
    "        labels_array[i] = label\n",
    "    return features_matrix, labels_array"
   ]
  },
  {
   "cell_type": "code",
   "execution_count": 3,
   "metadata": {},
   "outputs": [
    {
     "data": {
      "text/plain": [
       "((1593, 256), (1593, 1))"
      ]
     },
     "execution_count": 3,
     "metadata": {},
     "output_type": "execute_result"
    }
   ],
   "source": [
    "# 获取数据并打印其维度\n",
    "X,y = GetData('semeion.data')\n",
    "np.shape(X), np.shape(y)"
   ]
  },
  {
   "cell_type": "markdown",
   "metadata": {},
   "source": [
    "## 基本要求\n",
    "编程实现KNN算法；给出在不同k值（1，3，5）情况下，KNN算法对手写数字的识别精度（要求采用留一法）  \n",
    "  \n",
    "**留一法**  令K折交叉检验方法的K等于数据集大小，即只留**一个数据样本**作为测试集，其余都为训练集，计算平均准确率。\n",
    "- 训练集：去除第i组数据后原始数据剩余部分\n",
    "- 测试集：第i组数据\n",
    "这里我将采用切片+`concatenate`函数的方式实现剔除第i组数据的目的，但是注意**切片是的区间是左闭右开！！！**  \n",
    "\n",
    "【以此为例：`X_train = np.concatenate([X[:i], X[i:]], axis=0)` \n",
    "很蠢的错误，实际上并没有实现剔除第i组数据的效果，最终导致当k=1时其准确率为1，并且随着k的增加准确率降低】"
   ]
  },
  {
   "cell_type": "code",
   "execution_count": 4,
   "metadata": {},
   "outputs": [],
   "source": [
    "# 采用留一法来切割数据集得到训练集和测试集\n",
    "def loo_split(X, y, i):\n",
    "    # 训练集：去除第i组数据剩余部分\n",
    "    # 测试集：第i组数据\n",
    "    X_train = np.concatenate([X[:i], X[i + 1:]], axis=0)\n",
    "    X_test = X[i]\n",
    "\n",
    "    y_train = np.concatenate([y[:i], y[i + 1:]], axis=0)\n",
    "    y_test = y[i]\n",
    "    return X_train, X_test, y_train, y_test"
   ]
  },
  {
   "cell_type": "code",
   "execution_count": 5,
   "metadata": {},
   "outputs": [
    {
     "data": {
      "text/plain": [
       "(array([[0., 0., 0., ..., 0., 0., 0.],\n",
       "        [0., 0., 0., ..., 0., 0., 0.],\n",
       "        [0., 0., 0., ..., 0., 0., 0.],\n",
       "        ...,\n",
       "        [0., 0., 1., ..., 0., 0., 0.],\n",
       "        [0., 1., 1., ..., 0., 0., 0.],\n",
       "        [0., 0., 0., ..., 0., 0., 0.]]),\n",
       " array([0., 0., 0., 0., 0., 0., 1., 1., 1., 1., 1., 1., 1., 1., 1., 1., 0.,\n",
       "        0., 0., 0., 0., 1., 1., 0., 0., 0., 0., 0., 0., 0., 1., 1., 0., 0.,\n",
       "        0., 0., 1., 1., 0., 0., 0., 0., 0., 0., 0., 0., 1., 1., 0., 0., 0.,\n",
       "        0., 1., 1., 0., 0., 0., 0., 0., 0., 0., 0., 1., 1., 0., 0., 1., 1.,\n",
       "        1., 0., 0., 0., 0., 0., 0., 0., 0., 0., 1., 1., 0., 1., 1., 1., 0.,\n",
       "        0., 0., 0., 0., 0., 0., 0., 0., 0., 1., 1., 0., 1., 1., 0., 0., 0.,\n",
       "        0., 0., 0., 0., 0., 0., 0., 1., 1., 1., 1., 1., 1., 0., 0., 0., 0.,\n",
       "        0., 0., 0., 0., 0., 0., 1., 1., 0., 1., 1., 1., 0., 0., 0., 0., 0.,\n",
       "        0., 0., 0., 0., 1., 1., 1., 0., 1., 1., 1., 0., 0., 0., 0., 0., 0.,\n",
       "        0., 0., 1., 1., 1., 0., 0., 1., 1., 1., 0., 0., 0., 0., 0., 0., 0.,\n",
       "        1., 1., 1., 0., 0., 0., 1., 1., 0., 0., 0., 0., 0., 0., 0., 1., 1.,\n",
       "        1., 0., 0., 0., 0., 1., 1., 0., 0., 0., 0., 0., 1., 1., 1., 1., 0.,\n",
       "        0., 0., 0., 0., 1., 1., 1., 0., 0., 1., 1., 1., 1., 0., 0., 0., 0.,\n",
       "        0., 0., 0., 0., 1., 1., 1., 1., 1., 1., 0., 0., 0., 0., 0., 0., 0.,\n",
       "        0., 0., 0., 0., 0., 1., 1., 0., 0., 0., 0., 0., 0., 0., 0., 0., 0.,\n",
       "        0.]),\n",
       " array([[0.],\n",
       "        [0.],\n",
       "        [0.],\n",
       "        ...,\n",
       "        [9.],\n",
       "        [9.],\n",
       "        [9.]]),\n",
       " array([0.]))"
      ]
     },
     "execution_count": 5,
     "metadata": {},
     "output_type": "execute_result"
    }
   ],
   "source": [
    "# 检查留一法结果\n",
    "loo_split(X, y, 3)"
   ]
  },
  {
   "cell_type": "markdown",
   "metadata": {},
   "source": [
    "KNN算法三要素之一是***距离***\n",
    "\n",
    "因此我们需要定义一个距离函数，我们采用闵氏距离：假设两个n维变量 $A(x_{11},x_{12},\\dots,x_{1n})$ 和 $B(x_{21},x_{22},\\dots,x_{2n})$。  \n",
    "对于这两个 n 维变量，则有闵氏距离公式为：$$d_{AB}=\\sqrt[p]{\\sum\\limits_{k=1}^n{|x_{1k}-x_{2k}|^p}}$$\n",
    "1. $p=1$时，闵氏距离即为曼哈顿距离：$$d_{AB}=\\sum\\limits_{k=1}^n{|x_{1k}-x_{2k}|}$$\n",
    "2. $p=2$时，闵氏距离即为欧氏距离：$$d_{AB}=\\sqrt{\\sum\\limits_{k=1}^n{(x_{1k}-x_{2k})^2}}$$\n",
    "3. $p=\\infty$时，闵氏距离即为切比雪夫距离：$$d_{AB}=\\max{(|x_{k1}-x_{2k}|)}$$"
   ]
  },
  {
   "cell_type": "code",
   "execution_count": 6,
   "metadata": {},
   "outputs": [],
   "source": [
    "# 寻找最近邻的K个点\n",
    "def getKNeighbors(data_test, data_train, k, p):\n",
    "    # 计算测试数据与训练数据之间的距离\n",
    "    # 这里我们使用numpy中的范数计算方法np.linalg.norm\n",
    "    # axis=1按行向量处理\n",
    "    distances = np.linalg.norm((data_test-data_train), ord=p, axis=1)\n",
    "    # 取最近邻的k个点的索引\n",
    "    index = np.argsort(distances)[0:k]\n",
    "    return index\n",
    "        "
   ]
  },
  {
   "cell_type": "code",
   "execution_count": 7,
   "metadata": {},
   "outputs": [],
   "source": [
    "class MyKNeighborsClassifier(object):\n",
    "    \"\"\"\n",
    "        自定义的KNN分类器\n",
    "    \"\"\"\n",
    "\n",
    "\n",
    "    def __init__(self, n_neighbors=5):\n",
    "        self.n_neighbors = n_neighbors\n",
    "    \n",
    "\n",
    "    def fit(self, X, y):\n",
    "        \"\"\"\n",
    "            惰性学习\n",
    "        \"\"\"\n",
    "        self.X = X\n",
    "        self.y = y \n",
    "\n",
    "\n",
    "    def predict(self, X_test):\n",
    "        # 存放测试结果\n",
    "        res = []\n",
    "        # 默认采用欧氏距离\n",
    "        index = getKNeighbors(X_test, self.X, self.n_neighbors, p=2)\n",
    "        labels = self.y[index].flatten()\n",
    "        # 把k近邻中最多的那个标签作为分类结果\n",
    "        classifyRes = Counter(labels.tolist())\n",
    "        classifyRes = classifyRes.most_common(1)[0][0]\n",
    "        res.append(classifyRes)\n",
    "        return np.array(res)"
   ]
  },
  {
   "cell_type": "code",
   "execution_count": 8,
   "metadata": {},
   "outputs": [],
   "source": [
    "# KNN算法手动实现函数\n",
    "def MyKnnClassifier(X, y, n_neighbors):\n",
    "    # 预测正确个数\n",
    "    acc = 0\n",
    "    for i in range(y.shape[0]):\n",
    "        # 留一法划分训练集和测试集\n",
    "        X_train, X_test, y_train, y_test = loo_split(X, y, i)\n",
    "        knn = MyKNeighborsClassifier(n_neighbors)\n",
    "        knn.fit(X_train, y_train.ravel())\n",
    "        y_pred = knn.predict(X_test)\n",
    "        if y_pred == y_test:\n",
    "            # 分类正确则将acc+1\n",
    "            acc += 1\n",
    "    accRate = acc / y.shape[0]\n",
    "    print('k={0}时，测试个数为{1}  正确个数为：{2}  准确率为：{3}'.format(n_neighbors, y.shape[0], acc, accRate))\n",
    "    return accRate"
   ]
  },
  {
   "cell_type": "markdown",
   "metadata": {},
   "source": [
    "### 基本要求实验结果\n",
    "我们最终选用的是$p=2$的欧氏距离，下面是基本要求的实验结果："
   ]
  },
  {
   "cell_type": "code",
   "execution_count": 9,
   "metadata": {},
   "outputs": [
    {
     "name": "stdout",
     "output_type": "stream",
     "text": [
      "k=1时，测试个数为1593  正确个数为：1459  准确率为：0.9158819836785939\n",
      "k=3时，测试个数为1593  正确个数为：1464  准确率为：0.9190207156308852\n",
      "k=5时，测试个数为1593  正确个数为：1458  准确率为：0.9152542372881356\n"
     ]
    }
   ],
   "source": [
    "myAccRate1 = MyKnnClassifier(X, y, 1)\n",
    "myAccRate3 = MyKnnClassifier(X, y, 3)\n",
    "myAccRate5 = MyKnnClassifier(X, y, 5)"
   ]
  },
  {
   "cell_type": "markdown",
   "metadata": {},
   "source": [
    "### 中级要求\n",
    "与机器学习包中的KNN分类结果进行对比，我们选取Python的经典机器学习库scikit-learn中的`KNeighborsClassifier`分类器，来与我们的KNN的分类器进行对比。我们依然利用留一法划分数据集，这里使用scikit-learn中的`LeaveOneOut`。  \n",
    "\n",
    "`get_n_splits(X, y=None, groups=None)`返回交叉验证器中的分裂迭代次数  \n",
    "**Parameters**\n",
    "- `X` array-like of shape (n_samples, n_features)  \n",
    "训练数据，其中 n_samples 是样本数，n_​​features 是特征数。\n",
    "- `y` object  \n",
    "总是被忽略，存在是为了兼容性。\n",
    "- `groups` object  \n",
    "总是被忽略，存在是为了兼容性。  \n",
    "\n",
    "**Returns**\n",
    "- `n_splits` int  \n",
    "返回交叉验证器中的拆分迭代次数。\n",
    "\n",
    "`split(X, y=None, groups=None)`生成索引以将数据拆分为训练集和测试集。  \n",
    "**Parameters**\n",
    "- `X` array-like of shape (n_samples, n_features)  \n",
    "训练数据，其中 n_samples 是样本数，n_​​features 是特征数。\n",
    "- `y` array-like of shape (n_samples,)  \n",
    "监督学习问题的目标变量。\n",
    "- `groups` array-like of shape (n_samples,), default=None  \n",
    "将数据集拆分为训练/测试集时使用的样本的分组标签。\n",
    "\n",
    "**Yields**\n",
    "- `trainndarray`  \n",
    "该拆分的训练集索引。\n",
    "- `testndarray`  \n",
    "该拆分的测试集索引。"
   ]
  },
  {
   "cell_type": "code",
   "execution_count": 10,
   "metadata": {},
   "outputs": [],
   "source": [
    "# KNN算法sklearn库实现\n",
    "def skKnnClassifier(X, y, n_neighbors):\n",
    "    knn = KNeighborsClassifier(n_neighbors)\n",
    "    # 实例化LOO对象\n",
    "    loo = LeaveOneOut()\n",
    "    loo.get_n_splits(X)\n",
    "    mean_accuracy_score_list = []\n",
    "    # 取LOO训练、测试集数据\n",
    "    for train_idx, test_idx in loo.split(X):\n",
    "        # train_idx 是指训练数据在总数据集上的索引位置\n",
    "        # test_idx 是指测试数据在总数据集上的索引位置\n",
    "        X_train, X_test, y_train, y_test = X[train_idx], X[test_idx], y[train_idx], y[test_idx]\n",
    "        knn.fit(X_train, y_train.ravel())\n",
    "        y_pred = knn.predict(X_test)\n",
    "        mean_accuracy_score_list.append(accuracy_score(y_test, y_pred))\n",
    "    print('k={0}时，scikit-learn训练手写体识别的准确率为：{1}'.format(n_neighbors, np.average(mean_accuracy_score_list)))\n",
    "    return np.average(mean_accuracy_score_list)"
   ]
  },
  {
   "cell_type": "markdown",
   "metadata": {},
   "source": [
    "### 中级要求实验结果\n",
    "首先让我们输出scikit-learn实现KNN算法的准确率"
   ]
  },
  {
   "cell_type": "code",
   "execution_count": 11,
   "metadata": {},
   "outputs": [
    {
     "name": "stdout",
     "output_type": "stream",
     "text": [
      "k=1时，scikit-learn训练手写体识别的准确率为：0.9171374764595104\n",
      "k=3时，scikit-learn训练手写体识别的准确率为：0.903954802259887\n",
      "k=5时，scikit-learn训练手写体识别的准确率为：0.9052102950408035\n"
     ]
    }
   ],
   "source": [
    "skAccRate1 = skKnnClassifier(X, y, 1)\n",
    "skAccRate3 = skKnnClassifier(X, y, 3)\n",
    "skAccRate5 = skKnnClassifier(X, y, 5)"
   ]
  },
  {
   "cell_type": "markdown",
   "metadata": {},
   "source": [
    "接下来我们通过可视化的方式对比手动实现的KNN分类器和通过sklearn实现的KNN分类器"
   ]
  },
  {
   "cell_type": "code",
   "execution_count": 12,
   "metadata": {},
   "outputs": [
    {
     "data": {
      "image/png": "[encoded data removed]",
      "text/plain": [
       "<Figure size 640x480 with 1 Axes>"
      ]
     },
     "metadata": {},
     "output_type": "display_data"
    }
   ],
   "source": [
    "myKNNAccRates = [myAccRate1, myAccRate3, myAccRate5]\n",
    "skKNNAccRates = [skAccRate1, skAccRate3, skAccRate5]\n",
    "plt.plot([1,3,5], myKNNAccRates, label='MyKNeighborsClassifier')\n",
    "plt.plot([1,3,5], skKNNAccRates, label='scikit-learn KNeighborsClassifier')\n",
    "plt.legend()\n",
    "plt.show()"
   ]
  },
  {
   "cell_type": "markdown",
   "metadata": {},
   "source": [
    "从现有的不同k值（1，3，5）情况下的数据上来对比我们手动实现的KNN算法和利用sklearn库实现的KNN算法可以发现，我们的KNN算法能够达到较高的准确率（90%以上），与sklearn中的KNN算法准确率水平相当。  \n",
    "为了更好的与机器学习包中的KNN分类结果进行对比，我们在利用sklearn实现KNN算法时采用了控制变量法尽可能地减少了除分类器内部实现以外的干扰因素的影响。  \n",
    "因为我们采用了**留一法**来进行交叉验证，因此一般情况下在k值相同时我们得出的准确率应该是相同的，那么为什么会出现上面对比的不同呢？猜测可能的原因：\n",
    "- 算法的具体实现上存在细节上的差异，如边界处理等\n",
    "- 随机性：如距离相同时的处理方案、样本选择等\n",
    "\n",
    "经过对比sklearn库中实现KNN算法的[源码](https://github.com/scikit-learn/scikit-learn/blob/main/sklearn/neighbors/_classification.py)我发现最有可能的原因就是在距离相同时的处理方案不同，我们手动实现的KNN算法遇到距离相同的情况时会选择第一个标签，而sklearn中的KNN算法是随机选取的标签。（当然，以上仅仅是个人的一个猜测，尚不能很好的解释这个现象）  \n",
    "接下来我们改变k值再次对比两个KNN算法"
   ]
  },
  {
   "cell_type": "code",
   "execution_count": 1,
   "metadata": {},
   "outputs": [
    {
     "ename": "NameError",
     "evalue": "name 'MyKnnClassifier' is not defined",
     "output_type": "error",
     "traceback": [
      "\u001b[1;31m---------------------------------------------------------------------------\u001b[0m",
      "\u001b[1;31mNameError\u001b[0m                                 Traceback (most recent call last)",
      "\u001b[1;32md:\\PYZ\\Github\\Machine_Learning\\Lab1\\Lab1_KNN.ipynb 单元格 23\u001b[0m line \u001b[0;36m4\n\u001b[0;32m      <a href='vscode-notebook-cell:/d%3A/PYZ/Github/Machine_Learning/Lab1/Lab1_KNN.ipynb#X31sZmlsZQ%3D%3D?line=1'>2</a>\u001b[0m skKNNaccuracy \u001b[39m=\u001b[39m []\n\u001b[0;32m      <a href='vscode-notebook-cell:/d%3A/PYZ/Github/Machine_Learning/Lab1/Lab1_KNN.ipynb#X31sZmlsZQ%3D%3D?line=2'>3</a>\u001b[0m \u001b[39mfor\u001b[39;00m k \u001b[39min\u001b[39;00m \u001b[39mrange\u001b[39m(\u001b[39m1\u001b[39m,\u001b[39m51\u001b[39m):\n\u001b[1;32m----> <a href='vscode-notebook-cell:/d%3A/PYZ/Github/Machine_Learning/Lab1/Lab1_KNN.ipynb#X31sZmlsZQ%3D%3D?line=3'>4</a>\u001b[0m     myKNNacc \u001b[39m=\u001b[39m MyKnnClassifier(X, y, k)\n\u001b[0;32m      <a href='vscode-notebook-cell:/d%3A/PYZ/Github/Machine_Learning/Lab1/Lab1_KNN.ipynb#X31sZmlsZQ%3D%3D?line=4'>5</a>\u001b[0m     myKNNaccuracy\u001b[39m.\u001b[39mappend(myKNNacc)\n\u001b[0;32m      <a href='vscode-notebook-cell:/d%3A/PYZ/Github/Machine_Learning/Lab1/Lab1_KNN.ipynb#X31sZmlsZQ%3D%3D?line=5'>6</a>\u001b[0m     skKNNacc \u001b[39m=\u001b[39m skKnnClassifier(X, y, k)\n",
      "\u001b[1;31mNameError\u001b[0m: name 'MyKnnClassifier' is not defined"
     ]
    }
   ],
   "source": [
    "myKNNaccuracy = []\n",
    "skKNNaccuracy = []\n",
    "for k in range(1,51):\n",
    "    myKNNacc = MyKnnClassifier(X, y, k)\n",
    "    myKNNaccuracy.append(myKNNacc)\n",
    "    skKNNacc = skKnnClassifier(X, y, k)\n",
    "    skKNNaccuracy.append(skKNNacc)\n",
    "plt.plot(np.arange(1,51), myKNNaccuracy, label='MyKNeighborsClassifier')\n",
    "plt.plot(np.arange(1,51), skKNNaccuracy, label='scikit-learn KNeighborsClassifier')\n",
    "plt.legend()\n",
    "plt.show()"
   ]
  }
 ],
 "metadata": {
  "kernelspec": {
   "display_name": "Python3_11_virtualenv",
   "language": "python",
   "name": "python3_11_virtualenv"
  },
  "language_info": {
   "codemirror_mode": {
    "name": "ipython",
    "version": 3
   },
   "file_extension": ".py",
   "mimetype": "text/x-python",
   "name": "python",
   "nbconvert_exporter": "python",
   "pygments_lexer": "ipython3",
   "version": "3.11.4"
  },
  "orig_nbformat": 4
 },
 "nbformat": 4,
 "nbformat_minor": 2
}
